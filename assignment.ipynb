{
 "cells": [
  {
   "cell_type": "code",
   "execution_count": 1,
   "metadata": {},
   "outputs": [
    {
     "data": {
      "text/html": [
       "<div>\n",
       "<style scoped>\n",
       "    .dataframe tbody tr th:only-of-type {\n",
       "        vertical-align: middle;\n",
       "    }\n",
       "\n",
       "    .dataframe tbody tr th {\n",
       "        vertical-align: top;\n",
       "    }\n",
       "\n",
       "    .dataframe thead th {\n",
       "        text-align: right;\n",
       "    }\n",
       "</style>\n",
       "<table border=\"1\" class=\"dataframe\">\n",
       "  <thead>\n",
       "    <tr style=\"text-align: right;\">\n",
       "      <th></th>\n",
       "      <th>RequestID</th>\n",
       "      <th>EmpID</th>\n",
       "      <th>EmpName</th>\n",
       "      <th>Dept</th>\n",
       "      <th>Request_Date</th>\n",
       "      <th>Completion_Date</th>\n",
       "      <th>Request_Detail</th>\n",
       "      <th>PIC</th>\n",
       "    </tr>\n",
       "  </thead>\n",
       "  <tbody>\n",
       "    <tr>\n",
       "      <th>0</th>\n",
       "      <td>REQ0001</td>\n",
       "      <td>103</td>\n",
       "      <td>Charlie Davis</td>\n",
       "      <td>HR</td>\n",
       "      <td>01/01/2024</td>\n",
       "      <td>09/01/2024</td>\n",
       "      <td>Payroll Issue</td>\n",
       "      <td>Sarah Supervisor</td>\n",
       "    </tr>\n",
       "    <tr>\n",
       "      <th>1</th>\n",
       "      <td>REQ0002</td>\n",
       "      <td>103</td>\n",
       "      <td>Charlie Davis</td>\n",
       "      <td>HR</td>\n",
       "      <td>01/01/2024</td>\n",
       "      <td>02/01/2024</td>\n",
       "      <td>Access Approval</td>\n",
       "      <td>John Manager</td>\n",
       "    </tr>\n",
       "    <tr>\n",
       "      <th>2</th>\n",
       "      <td>REQ0003</td>\n",
       "      <td>105</td>\n",
       "      <td>Eve Wilson</td>\n",
       "      <td>HR</td>\n",
       "      <td>01/01/2024</td>\n",
       "      <td>03/01/2024</td>\n",
       "      <td>Access Approval</td>\n",
       "      <td>John Manager</td>\n",
       "    </tr>\n",
       "    <tr>\n",
       "      <th>3</th>\n",
       "      <td>REQ0004</td>\n",
       "      <td>104</td>\n",
       "      <td>David Brown</td>\n",
       "      <td>HR</td>\n",
       "      <td>02/01/2024</td>\n",
       "      <td>10/01/2024</td>\n",
       "      <td>Payroll Issue</td>\n",
       "      <td>Sarah Supervisor</td>\n",
       "    </tr>\n",
       "    <tr>\n",
       "      <th>4</th>\n",
       "      <td>REQ0005</td>\n",
       "      <td>102</td>\n",
       "      <td>Bob Smith</td>\n",
       "      <td>HR</td>\n",
       "      <td>02/01/2024</td>\n",
       "      <td>04/01/2024</td>\n",
       "      <td>Benefit Claim</td>\n",
       "      <td>John Manager</td>\n",
       "    </tr>\n",
       "  </tbody>\n",
       "</table>\n",
       "</div>"
      ],
      "text/plain": [
       "  RequestID  EmpID        EmpName Dept Request_Date Completion_Date  \\\n",
       "0   REQ0001    103  Charlie Davis   HR   01/01/2024      09/01/2024   \n",
       "1   REQ0002    103  Charlie Davis   HR   01/01/2024      02/01/2024   \n",
       "2   REQ0003    105     Eve Wilson   HR   01/01/2024      03/01/2024   \n",
       "3   REQ0004    104    David Brown   HR   02/01/2024      10/01/2024   \n",
       "4   REQ0005    102      Bob Smith   HR   02/01/2024      04/01/2024   \n",
       "\n",
       "    Request_Detail               PIC  \n",
       "0    Payroll Issue  Sarah Supervisor  \n",
       "1  Access Approval      John Manager  \n",
       "2  Access Approval      John Manager  \n",
       "3    Payroll Issue  Sarah Supervisor  \n",
       "4    Benefit Claim      John Manager  "
      ]
     },
     "execution_count": 1,
     "metadata": {},
     "output_type": "execute_result"
    }
   ],
   "source": [
    "import pandas as pd\n",
    "import numpy as np\n",
    "df = pd.read_csv('HR_DATA.csv', delimiter=';')\n",
    "\n",
    "df.head()"
   ]
  },
  {
   "cell_type": "code",
   "execution_count": 5,
   "metadata": {},
   "outputs": [
    {
     "name": "stdout",
     "output_type": "stream",
     "text": [
      "<class 'pandas.core.frame.DataFrame'>\n",
      "RangeIndex: 1000 entries, 0 to 999\n",
      "Data columns (total 8 columns):\n",
      " #   Column           Non-Null Count  Dtype \n",
      "---  ------           --------------  ----- \n",
      " 0   RequestID        1000 non-null   object\n",
      " 1   EmpID            1000 non-null   int64 \n",
      " 2   EmpName          1000 non-null   object\n",
      " 3   Dept             1000 non-null   object\n",
      " 4   Request_Date     991 non-null    object\n",
      " 5   Completion_Date  907 non-null    object\n",
      " 6   Request_Detail   994 non-null    object\n",
      " 7   PIC              995 non-null    object\n",
      "dtypes: int64(1), object(7)\n",
      "memory usage: 62.6+ KB\n"
     ]
    }
   ],
   "source": [
    "df.info()"
   ]
  },
  {
   "cell_type": "code",
   "execution_count": 6,
   "metadata": {},
   "outputs": [
    {
     "data": {
      "text/plain": [
       "RequestID           0\n",
       "EmpID               0\n",
       "EmpName             0\n",
       "Dept                0\n",
       "Request_Date        9\n",
       "Completion_Date    93\n",
       "Request_Detail      6\n",
       "PIC                 5\n",
       "dtype: int64"
      ]
     },
     "execution_count": 6,
     "metadata": {},
     "output_type": "execute_result"
    }
   ],
   "source": [
    "df.isna().sum()"
   ]
  },
  {
   "cell_type": "markdown",
   "metadata": {},
   "source": [
    "**Filling Missing Values**"
   ]
  },
  {
   "cell_type": "code",
   "execution_count": null,
   "metadata": {},
   "outputs": [
    {
     "data": {
      "text/html": [
       "<div>\n",
       "<style scoped>\n",
       "    .dataframe tbody tr th:only-of-type {\n",
       "        vertical-align: middle;\n",
       "    }\n",
       "\n",
       "    .dataframe tbody tr th {\n",
       "        vertical-align: top;\n",
       "    }\n",
       "\n",
       "    .dataframe thead th {\n",
       "        text-align: right;\n",
       "    }\n",
       "</style>\n",
       "<table border=\"1\" class=\"dataframe\">\n",
       "  <thead>\n",
       "    <tr style=\"text-align: right;\">\n",
       "      <th></th>\n",
       "      <th>Request_Date</th>\n",
       "      <th>Completion_Date</th>\n",
       "    </tr>\n",
       "  </thead>\n",
       "  <tbody>\n",
       "    <tr>\n",
       "      <th>0</th>\n",
       "      <td>2024-01-01</td>\n",
       "      <td>2024-01-09</td>\n",
       "    </tr>\n",
       "    <tr>\n",
       "      <th>1</th>\n",
       "      <td>2024-01-01</td>\n",
       "      <td>2024-01-02</td>\n",
       "    </tr>\n",
       "    <tr>\n",
       "      <th>2</th>\n",
       "      <td>2024-01-01</td>\n",
       "      <td>2024-01-03</td>\n",
       "    </tr>\n",
       "    <tr>\n",
       "      <th>3</th>\n",
       "      <td>2024-01-02</td>\n",
       "      <td>2024-01-10</td>\n",
       "    </tr>\n",
       "    <tr>\n",
       "      <th>4</th>\n",
       "      <td>2024-01-02</td>\n",
       "      <td>2024-01-04</td>\n",
       "    </tr>\n",
       "    <tr>\n",
       "      <th>...</th>\n",
       "      <td>...</td>\n",
       "      <td>...</td>\n",
       "    </tr>\n",
       "    <tr>\n",
       "      <th>995</th>\n",
       "      <td>NaT</td>\n",
       "      <td>2025-01-09</td>\n",
       "    </tr>\n",
       "    <tr>\n",
       "      <th>996</th>\n",
       "      <td>2024-12-30</td>\n",
       "      <td>NaT</td>\n",
       "    </tr>\n",
       "    <tr>\n",
       "      <th>997</th>\n",
       "      <td>2024-12-30</td>\n",
       "      <td>2025-01-03</td>\n",
       "    </tr>\n",
       "    <tr>\n",
       "      <th>998</th>\n",
       "      <td>2024-12-31</td>\n",
       "      <td>2025-01-07</td>\n",
       "    </tr>\n",
       "    <tr>\n",
       "      <th>999</th>\n",
       "      <td>2024-12-31</td>\n",
       "      <td>NaT</td>\n",
       "    </tr>\n",
       "  </tbody>\n",
       "</table>\n",
       "<p>1000 rows × 2 columns</p>\n",
       "</div>"
      ],
      "text/plain": [
       "    Request_Date Completion_Date\n",
       "0     2024-01-01      2024-01-09\n",
       "1     2024-01-01      2024-01-02\n",
       "2     2024-01-01      2024-01-03\n",
       "3     2024-01-02      2024-01-10\n",
       "4     2024-01-02      2024-01-04\n",
       "..           ...             ...\n",
       "995          NaT      2025-01-09\n",
       "996   2024-12-30             NaT\n",
       "997   2024-12-30      2025-01-03\n",
       "998   2024-12-31      2025-01-07\n",
       "999   2024-12-31             NaT\n",
       "\n",
       "[1000 rows x 2 columns]"
      ]
     },
     "execution_count": 33,
     "metadata": {},
     "output_type": "execute_result"
    }
   ],
   "source": [
    "df['Request_Date'] = pd.to_datetime(df['Request_Date'],format='%d/%m/%Y')\n",
    "df['Completion_Date'] = pd.to_datetime(df['Completion_Date'],format='%d/%m/%Y', errors='coerce')\n",
    "\n",
    "df['Request_Date']\n",
    "df[['Request_Date','Completion_Date']]\n"
   ]
  },
  {
   "cell_type": "code",
   "execution_count": 30,
   "metadata": {},
   "outputs": [
    {
     "name": "stdout",
     "output_type": "stream",
     "text": [
      "<class 'pandas.core.frame.DataFrame'>\n",
      "RangeIndex: 1000 entries, 0 to 999\n",
      "Data columns (total 8 columns):\n",
      " #   Column           Non-Null Count  Dtype         \n",
      "---  ------           --------------  -----         \n",
      " 0   RequestID        1000 non-null   object        \n",
      " 1   EmpID            1000 non-null   int64         \n",
      " 2   EmpName          1000 non-null   object        \n",
      " 3   Dept             1000 non-null   object        \n",
      " 4   Request_Date     991 non-null    datetime64[ns]\n",
      " 5   Completion_Date  907 non-null    datetime64[ns]\n",
      " 6   Request_Detail   994 non-null    object        \n",
      " 7   PIC              995 non-null    object        \n",
      "dtypes: datetime64[ns](2), int64(1), object(5)\n",
      "memory usage: 62.6+ KB\n"
     ]
    }
   ],
   "source": [
    "df.info()"
   ]
  },
  {
   "cell_type": "code",
   "execution_count": 28,
   "metadata": {},
   "outputs": [
    {
     "ename": "ValueError",
     "evalue": "Cannot compute a business day count with a NaT (not-a-time) date",
     "output_type": "error",
     "traceback": [
      "\u001b[31m---------------------------------------------------------------------------\u001b[39m",
      "\u001b[31mValueError\u001b[39m                                Traceback (most recent call last)",
      "\u001b[36mCell\u001b[39m\u001b[36m \u001b[39m\u001b[32mIn[28]\u001b[39m\u001b[32m, line 1\u001b[39m\n\u001b[32m----> \u001b[39m\u001b[32m1\u001b[39m df[\u001b[33m'\u001b[39m\u001b[33mProcessing_Days\u001b[39m\u001b[33m'\u001b[39m] = \u001b[43mnp\u001b[49m\u001b[43m.\u001b[49m\u001b[43mbusday_count\u001b[49m\u001b[43m(\u001b[49m\u001b[43mdf\u001b[49m\u001b[43m[\u001b[49m\u001b[33;43m'\u001b[39;49m\u001b[33;43mRequest_Date\u001b[39;49m\u001b[33;43m'\u001b[39;49m\u001b[43m]\u001b[49m\u001b[43m.\u001b[49m\u001b[43mvalues\u001b[49m\u001b[43m.\u001b[49m\u001b[43mastype\u001b[49m\u001b[43m(\u001b[49m\u001b[33;43m'\u001b[39;49m\u001b[33;43mdatetime64[D]\u001b[39;49m\u001b[33;43m'\u001b[39;49m\u001b[43m)\u001b[49m\u001b[43m,\u001b[49m\u001b[43m \u001b[49m\u001b[43mdf\u001b[49m\u001b[43m[\u001b[49m\u001b[33;43m'\u001b[39;49m\u001b[33;43mCompletion_Date\u001b[39;49m\u001b[33;43m'\u001b[39;49m\u001b[43m]\u001b[49m\u001b[43m.\u001b[49m\u001b[43mvalues\u001b[49m\u001b[43m.\u001b[49m\u001b[43mastype\u001b[49m\u001b[43m(\u001b[49m\u001b[33;43m'\u001b[39;49m\u001b[33;43mdatetime64[D]\u001b[39;49m\u001b[33;43m'\u001b[39;49m\u001b[43m)\u001b[49m\u001b[43m)\u001b[49m\n",
      "\u001b[31mValueError\u001b[39m: Cannot compute a business day count with a NaT (not-a-time) date"
     ]
    }
   ],
   "source": [
    "df['Processing_Days'] = np.busday_count(df['Request_Date'].values.astype('datetime64[D]'), df['Completion_Date'].values.astype('datetime64[D]'))\n"
   ]
  },
  {
   "cell_type": "code",
   "execution_count": null,
   "metadata": {},
   "outputs": [],
   "source": []
  }
 ],
 "metadata": {
  "kernelspec": {
   "display_name": ".venv",
   "language": "python",
   "name": "python3"
  },
  "language_info": {
   "codemirror_mode": {
    "name": "ipython",
    "version": 3
   },
   "file_extension": ".py",
   "mimetype": "text/x-python",
   "name": "python",
   "nbconvert_exporter": "python",
   "pygments_lexer": "ipython3",
   "version": "3.13.0"
  }
 },
 "nbformat": 4,
 "nbformat_minor": 2
}
